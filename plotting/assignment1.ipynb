{
 "cells": [
  {
   "cell_type": "code",
   "execution_count": 23,
   "id": "7f2689d4",
   "metadata": {},
   "outputs": [],
   "source": [
    "import numpy as np\n",
    "import matplotlib.pyplot as plt"
   ]
  },
  {
   "cell_type": "code",
   "execution_count": 56,
   "id": "6598b8b4",
   "metadata": {},
   "outputs": [],
   "source": [
    "# dataset stats\n",
    "# [0] age – a positive integer (years)\n",
    "# [1] FEV1 – a continuous valued measurement (liter)\n",
    "# [2] height – a continuous valued measurement (inches)\n",
    "# [3] gender – binary (female: 0, male: 1)\n",
    "# [4] smoking status – binary (non-smoker: 0, smoker: 1)\n",
    "# [5] weight – a continuous valued measurement (kg)"
   ]
  },
  {
   "cell_type": "markdown",
   "id": "44616fa5",
   "metadata": {},
   "source": [
    "# Exercise 1"
   ]
  },
  {
   "cell_type": "markdown",
   "id": "22e33fb6",
   "metadata": {},
   "source": [
    "## a)"
   ]
  },
  {
   "cell_type": "code",
   "execution_count": 70,
   "id": "7a923b20",
   "metadata": {},
   "outputs": [],
   "source": [
    "# Read the data from the file smoking.txt, and divide the dataset into \n",
    "# two groups consisting of smokers and non-smokers. \n",
    "\n",
    "path = \"smoking.txt\"\n",
    "data = np.loadtxt(path)\n",
    "data = data.astype(float)"
   ]
  },
  {
   "cell_type": "code",
   "execution_count": 71,
   "id": "e584d169",
   "metadata": {},
   "outputs": [],
   "source": [
    "smoks = data[np.isin(data[:, 4], 1)]\n",
    "non_smoks = data[np.isin(data[:, 4], 0)]"
   ]
  },
  {
   "cell_type": "code",
   "execution_count": 72,
   "id": "189a5f3c",
   "metadata": {},
   "outputs": [
    {
     "name": "stdout",
     "output_type": "stream",
     "text": [
      "average lung function for smokers: 3.2768615384615387\n",
      "average lung function for non smokers: 2.5661426146010164\n"
     ]
    }
   ],
   "source": [
    "# Write a script which computes the average lung function, \n",
    "# measured in FEV1, among the smokers and among the non-smokers\n",
    "\n",
    "avg_smoks = np.mean(smoks, axis=0)[1]\n",
    "avg_non_smoks = np.mean(non_smoks, axis=0)[1]\n",
    "\n",
    "print('average lung function for smokers: {}'.format(avg_smoks))\n",
    "print('average lung function for non smokers: {}'.format(avg_non_smoks))"
   ]
  },
  {
   "cell_type": "code",
   "execution_count": 73,
   "id": "7da35503",
   "metadata": {},
   "outputs": [],
   "source": [
    "# Report your computed average FEV1 scores. Are you surprised?\n",
    "# Yes, I am definitely surprised because it is expected that smokers have a smaller lung volumne in litres."
   ]
  },
  {
   "cell_type": "markdown",
   "id": "be52b683",
   "metadata": {},
   "source": [
    "# Exercise 2"
   ]
  },
  {
   "cell_type": "code",
   "execution_count": 74,
   "id": "4f5ad8c9",
   "metadata": {},
   "outputs": [
    {
     "name": "stderr",
     "output_type": "stream",
     "text": [
      "<ipython-input-74-877908503193>:6: UserWarning: FixedFormatter should only be used together with FixedLocator\n",
      "  ax.set_xticklabels(['smokers', 'non smokers']);\n"
     ]
    },
    {
     "data": {
      "image/png": "[encoded data removed]",
      "text/plain": [
       "<Figure size 720x504 with 1 Axes>"
      ]
     },
     "metadata": {
      "needs_background": "light"
     },
     "output_type": "display_data"
    }
   ],
   "source": [
    "# Make a box plot of the FEV1 in the two groups. What do you see? Are you surprised?\n",
    "\n",
    "fig, ax = plt.subplots(figsize =(10, 7))\n",
    "ax.set_title('FEV1 measurement over smokers vs. non smokers')\n",
    "box_data = [smoks[:, 1], non_smoks[:, 1]]\n",
    "ax.set_xticklabels(['smokers', 'non smokers']);\n",
    "ax.set_xlabel('group');\n",
    "ax.set_ylabel('FEV1 in liters');\n",
    "ax.boxplot(box_data);"
   ]
  },
  {
   "cell_type": "code",
   "execution_count": 75,
   "id": "197a0db0",
   "metadata": {},
   "outputs": [],
   "source": [
    "# As expected form the average value in Exercise 1, the box plot supports the findings of \n",
    "# smokers having a higher lung volumne. The variance, however, seems to be higher for non smokers, \n",
    "# as well as the number of outliers."
   ]
  },
  {
   "cell_type": "markdown",
   "id": "bd0ff78b",
   "metadata": {},
   "source": [
    "# Exercise 3"
   ]
  },
  {
   "cell_type": "markdown",
   "id": "5a77e029",
   "metadata": {},
   "source": [
    "## a)"
   ]
  },
  {
   "cell_type": "code",
   "execution_count": 76,
   "id": "cae57abb",
   "metadata": {},
   "outputs": [],
   "source": [
    "# Write a script that performs a two-sided t-test whose null hypothesis is that the two\n",
    "# populations have the same mean. Use a significance level of α = 0.05, and return a\n",
    "# binary response indicating acceptance or rejection of the null hypothesis. You should\n",
    "# try do implement it by yourself – though not the CDF of the t-distribution, use scipy.\n",
    "# If you can’t, you may use scipy’s stats.ttest ind."
   ]
  },
  {
   "cell_type": "code",
   "execution_count": 99,
   "id": "7605bb85",
   "metadata": {},
   "outputs": [
    {
     "name": "stdout",
     "output_type": "stream",
     "text": [
      "t: 7.149608129503807,\n",
      "df: 83,\n",
      "p-val: 3.11735748326214e-10,\n",
      "accept?: False\n"
     ]
    }
   ],
   "source": [
    "from scipy import stats\n",
    "from statistics import variance\n",
    "\n",
    "def ttest_welsh(x, y, alpha):\n",
    "    \n",
    "    result = True\n",
    "    \n",
    "    df = math.floor((((variance(x)/len(x)) + (variance(y)/len(y)))**2) / ((((variance(x)/len(x))**2)/(len(x)-1)) + (((variance(y)/len(y))**2)/(len(y)-1))))\n",
    "    t = (np.mean(x) - np.mean(y)) / (np.sqrt((variance(x)/len(x)) + (variance(y)/len(y))))\n",
    "    \n",
    "    crit_val = stats.t.ppf(q = 1-alpha, df=df)\n",
    "    p_val = 2 * (1- stats.t.cdf(t, df))\n",
    "            \n",
    "    # compare p val to alpha\n",
    "    # p-val should be 2.341...-12\n",
    "    \n",
    "    if p_val <= alpha:\n",
    "        result = False\n",
    "    \n",
    "    return 't: {},\\ndf: {},\\np-val: {},\\naccept?: {}'.format(t, df, p_val, result)\n",
    "\n",
    "alpha = 0.05\n",
    "print(ttest_welsh(smoks[:, 1], non_smoks[:, 1], alpha))"
   ]
  },
  {
   "cell_type": "markdown",
   "id": "27892268",
   "metadata": {},
   "source": [
    "# Exercise 4"
   ]
  },
  {
   "cell_type": "markdown",
   "id": "741ec34a",
   "metadata": {},
   "source": [
    "## a)"
   ]
  },
  {
   "cell_type": "code",
   "execution_count": 78,
   "id": "a7aea8a9",
   "metadata": {},
   "outputs": [
    {
     "data": {
      "image/png": "[encoded data removed]",
      "text/plain": [
       "<Figure size 720x504 with 1 Axes>"
      ]
     },
     "metadata": {
      "needs_background": "light"
     },
     "output_type": "display_data"
    }
   ],
   "source": [
    "# Compute the correlation between age and FEV1. Make a 2D plot of age versus FEV1\n",
    "# where non smokers appear in one color and smokers appear in another.\n",
    "\n",
    "fig, ax = plt.subplots(figsize =(10, 7))\n",
    "ax.set_title('FEV1-age-correlation over smokers vs. non smokers')\n",
    "plt.scatter(smoks[:, 0], smoks[:, 1], color='r', label='smokers');\n",
    "plt.scatter(non_smoks[:, 0], non_smoks[:, 1], color='g', label='non smokers');\n",
    "plt.legend();\n",
    "ax.set_xlabel('group');\n",
    "ax.set_ylabel('FEV1 in liters');"
   ]
  },
  {
   "cell_type": "code",
   "execution_count": 81,
   "id": "2d5b60b5",
   "metadata": {
    "scrolled": true
   },
   "outputs": [
    {
     "name": "stdout",
     "output_type": "stream",
     "text": [
      "Pearson Correlation coefficients matrix:\n",
      "[[1.         0.75645899]\n",
      " [0.75645899 1.        ]]\n",
      "Spearman Correlation coefficients matrix:\n",
      "[[1.         0.53284167]\n",
      " [0.53284167 1.        ]]\n"
     ]
    }
   ],
   "source": [
    "x = data[:,0]\n",
    "y = data[:,1]\n",
    "\n",
    "rkx = np.argsort(x)\n",
    "rky = np.argsort(y)\n",
    "\n",
    "print(f\"Pearson Correlation coefficients matrix:\\n{np.corrcoef(x,y)}\")\n",
    "print(f\"Spearman Correlation coefficients matrix:\\n{np.corrcoef(rkx,rky)}\")"
   ]
  },
  {
   "cell_type": "markdown",
   "id": "ff55adc5",
   "metadata": {},
   "source": [
    "# Exercise 5"
   ]
  },
  {
   "cell_type": "markdown",
   "id": "53eff0d6",
   "metadata": {},
   "source": [
    "## a)"
   ]
  },
  {
   "cell_type": "code",
   "execution_count": 82,
   "id": "efb48830",
   "metadata": {},
   "outputs": [
    {
     "name": "stdout",
     "output_type": "stream",
     "text": [
      "589 65\n"
     ]
    },
    {
     "data": {
      "image/png": "[encoded data removed]",
      "text/plain": [
       "<Figure size 720x504 with 1 Axes>"
      ]
     },
     "metadata": {
      "needs_background": "light"
     },
     "output_type": "display_data"
    }
   ],
   "source": [
    "# Create a histogram over the age of subjects in each of the two groups, smokers and non-smokers.\n",
    "\n",
    "print(len(non_smoks[:, 0]), len(smoks[:, 0]))\n",
    "\n",
    "fig, ax = plt.subplots(figsize =(10, 7))\n",
    "ax.set_title('FEV1-age-correlation over smokers vs. non smokers')\n",
    "plt.hist(non_smoks[:, 0], bins=len(set(non_smoks[:, 0])), color='g', label='non smokers');\n",
    "plt.hist(smoks[:, 0], bins=len(set(smoks[:, 0])), color='r', label='smokers');\n",
    "plt.legend();\n",
    "plt.grid();\n",
    "ax.set_xlabel('group');\n",
    "ax.set_ylabel('FEV1 in liters');"
   ]
  },
  {
   "cell_type": "code",
   "execution_count": 83,
   "id": "c044f701",
   "metadata": {},
   "outputs": [
    {
     "data": {
      "text/plain": [
       "'\\n1. The number of non smokers exceeds the number of smokers drastically.\\n2. The distribution over the age groups is very different from smokers to non smoker is two ways:\\n    a) The plot supports the findings from the earlier exercise that the mean age is higher in the group of smokers.\\n    That is, the red plotted bars for the smokers are more towards the right side of the plot\\n    b) The distribution of the both groups over the parameter of age is different: where there are rather high spikes\\n        for the ages 9, 8 und 11 in the non smokers plot, we see a more flat curve throughout the smokers age groups.\\n        However, this could also be due to the general less datapoints in that group with some classes (age 9) only\\n        having 1 record.\\n3. Intersting side note: even though we have way more examples of non smokers (589 vs. 65), there still seem to be \\n    more smokers at the ages of 15 and 16 than there are non-smokers.\\n'"
      ]
     },
     "execution_count": 83,
     "metadata": {},
     "output_type": "execute_result"
    }
   ],
   "source": [
    "# Overall, three things become even more clear than in the previous analysis.\n",
    "\"\"\"\n",
    "1. The number of non smokers exceeds the number of smokers drastically.\n",
    "2. The distribution over the age groups is very different from smokers to non smoker is two ways:\n",
    "    a) The plot supports the findings from the earlier exercise that the mean age is higher in the group of smokers.\n",
    "    That is, the red plotted bars for the smokers are more towards the right side of the plot\n",
    "    b) The distribution of the both groups over the parameter of age is different: where there are rather high spikes\n",
    "        for the ages 9, 8 und 11 in the non smokers plot, we see a more flat curve throughout the smokers age groups.\n",
    "        However, this could also be due to the general less datapoints in that group with some classes (age 9) only\n",
    "        having 1 record.\n",
    "3. Intersting side note: even though we have way more examples of non smokers (589 vs. 65), there still seem to be \n",
    "    more smokers at the ages of 15 and 16 than there are non-smokers.\n",
    "\"\"\""
   ]
  },
  {
   "cell_type": "code",
   "execution_count": null,
   "id": "4d6910f1",
   "metadata": {},
   "outputs": [],
   "source": []
  },
  {
   "cell_type": "code",
   "execution_count": null,
   "id": "fd9c72cc",
   "metadata": {},
   "outputs": [],
   "source": []
  }
 ],
 "metadata": {
  "kernelspec": {
   "display_name": "Python 3",
   "language": "python",
   "name": "python3"
  },
  "language_info": {
   "codemirror_mode": {
    "name": "ipython",
    "version": 3
   },
   "file_extension": ".py",
   "mimetype": "text/x-python",
   "name": "python",
   "nbconvert_exporter": "python",
   "pygments_lexer": "ipython3",
   "version": "3.8.8"
  }
 },
 "nbformat": 4,
 "nbformat_minor": 5
}
