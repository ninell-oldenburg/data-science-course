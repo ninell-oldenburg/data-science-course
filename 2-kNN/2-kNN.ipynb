{
 "cells": [
  {
   "cell_type": "code",
   "execution_count": 1,
   "id": "256ad2dc",
   "metadata": {},
   "outputs": [],
   "source": [
    "# import relevant packages\n",
    "import numpy as np\n",
    "\n",
    "# read in the data\n",
    "dataTrain = np.loadtxt('OccupancyTrain.csv', delimiter=',')\n",
    "dataTest = np.loadtxt('OccupancyTest.csv', delimiter=',')\n",
    "\n",
    "# split input variable & labels\n",
    "XTrain = dataTrain[:,:-1]\n",
    "YTrain = dataTrain[:,-1]\n",
    "XTest = dataTest[:,:-1]\n",
    "YTest = dataTest[:,-1]"
   ]
  },
  {
   "cell_type": "markdown",
   "id": "8c6d75ee",
   "metadata": {},
   "source": [
    "# Exercise 1 (Nearest neighbor classification). "
   ]
  },
  {
   "cell_type": "code",
   "execution_count": 2,
   "id": "44e44b5d",
   "metadata": {},
   "outputs": [],
   "source": [
    "# simple euclidean distance function\n",
    "def euclidean_dis(v1, v2):\n",
    "    s = 0.0\n",
    "    if len(v1) == len(v2):\n",
    "        for i in range(len(v1)):\n",
    "            s += (v1[i] - v2[i])**2\n",
    "    return np.sqrt(s)"
   ]
  },
  {
   "cell_type": "code",
   "execution_count": 3,
   "id": "93ffed7c",
   "metadata": {},
   "outputs": [],
   "source": [
    "# function to determine the label of ONE input \n",
    "# for a given train set, train label set, and k\n",
    "def k_nn(train_data, train_labels, test_entry, k):\n",
    "    \n",
    "    dist = np.empty(len(train_data))\n",
    "    for i, entry in enumerate(train_data):\n",
    "        dist[i] = euclidean_dis(test_entry, entry)\n",
    "        \n",
    "    idx = np.argpartition(dist, k)\n",
    "    neighbors_label = train_labels[idx[:k]].astype(int)\n",
    "    label = neighbors_label[0]\n",
    "    if not len(neighbors_label) == 1:  \n",
    "        label = np.bincount(neighbors_label).argmax()\n",
    "    \n",
    "    return label"
   ]
  },
  {
   "cell_type": "code",
   "execution_count": 4,
   "id": "38d48b89",
   "metadata": {},
   "outputs": [],
   "source": [
    "# fit function that returns a list with the predicted class\n",
    "# for a given test data set and k (call k_nn function)\n",
    "def fit(x_train, y_train, x_test, k):\n",
    "    prediction = []\n",
    "    for i, test in enumerate(x_test):\n",
    "        prediction.append(k_nn(x_train, y_train, test, k))\n",
    "    return prediction"
   ]
  },
  {
   "cell_type": "code",
   "execution_count": 5,
   "id": "406faff0",
   "metadata": {},
   "outputs": [
    {
     "name": "stdout",
     "output_type": "stream",
     "text": [
      "Test accuracy (k=1): 0.9775\n",
      "Train accuracy (k=1): 1.0\n"
     ]
    }
   ],
   "source": [
    "# print accuracy of the above fit() function\n",
    "from sklearn.metrics import accuracy_score\n",
    "accTest = accuracy_score(YTest, fit(XTrain, YTrain, XTest, 1))\n",
    "accTrain = accuracy_score(YTrain, fit(XTrain, YTrain, XTrain, 1))\n",
    "print(f'Test accuracy (k={1}): {accTest}\\nTrain accuracy (k={1}): {accTrain}')"
   ]
  },
  {
   "cell_type": "markdown",
   "id": "ffc30295",
   "metadata": {},
   "source": [
    "# Exercise 2 (Cross-validation). "
   ]
  },
  {
   "cell_type": "code",
   "execution_count": 6,
   "id": "68e375dc",
   "metadata": {},
   "outputs": [
    {
     "name": "stdout",
     "output_type": "stream",
     "text": [
      "Cross-validation of XTrain:\n",
      "kbest: 3\n"
     ]
    }
   ],
   "source": [
    "from sklearn.model_selection import KFold\n",
    "\n",
    "def get_kbest(ks, train_data, split=5):\n",
    "    # create indices for CV\n",
    "    cv = KFold(n_splits=split)\n",
    "    # loop over CV folds\n",
    "    acc_score = np.zeros((len(ks)))\n",
    "    for i, k in enumerate(ks):\n",
    "        for train, test in cv.split(train_data):\n",
    "            XTrainCV, XTestCV, YTrainCV, YTestCV = XTrain[train], XTrain[test], YTrain[train], YTrain[test]\n",
    "            acc_score[i] += 1 - (accuracy_score(YTestCV, fit(XTrainCV, YTrainCV, XTestCV, k)))\n",
    "        acc_score[i] = acc_score[i] / split\n",
    "    \n",
    "    idx_max = np.argmin(acc_score)\n",
    "    kbest = ks[idx_max]\n",
    "    \n",
    "    return kbest\n",
    "\n",
    "k_list = [1, 3, 5, 7, 9, 11]\n",
    "kb = get_kbest(k_list, XTrain)\n",
    "print('Cross-validation of XTrain:\\nkbest: {}'.format(kb))"
   ]
  },
  {
   "cell_type": "markdown",
   "id": "33c3f1aa",
   "metadata": {},
   "source": [
    "# Exercise 3 (Evaluation of classification performance). "
   ]
  },
  {
   "cell_type": "code",
   "execution_count": 7,
   "id": "51658126",
   "metadata": {},
   "outputs": [
    {
     "name": "stdout",
     "output_type": "stream",
     "text": [
      "Test accuracy (k=3): 0.9875\n",
      "Train accuracy (k=3): 0.9933333333333333\n",
      "Computation Time: 1.71 sec\n"
     ]
    }
   ],
   "source": [
    "# import timeit\n",
    "from timeit import default_timer as timer\n",
    "\n",
    "start = timer()\n",
    "accTest = accuracy_score(YTest, fit(XTrain, YTrain, XTest, kb))\n",
    "end = timer()\n",
    "accTrain = accuracy_score(YTrain, fit(XTrain, YTrain, XTrain, kb))\n",
    "print(f'Test accuracy (k={kb}): {accTest}\\nTrain accuracy (k={kb}): {accTrain}\\nComputation Time: {round(end-start, 2)} sec')"
   ]
  },
  {
   "cell_type": "markdown",
   "id": "fe540371",
   "metadata": {},
   "source": [
    "# Exercise 4 (Data normalization). "
   ]
  },
  {
   "cell_type": "code",
   "execution_count": 8,
   "id": "015be271",
   "metadata": {},
   "outputs": [
    {
     "name": "stdout",
     "output_type": "stream",
     "text": [
      "VERSION 1\n",
      "kbest: 3\n",
      "Test accuracy: 0.9875\n",
      "Train accuracy: 0.9933333333333333\n",
      "Computation Time: 1.48 sec\n"
     ]
    }
   ],
   "source": [
    "from sklearn import preprocessing\n",
    "\n",
    "# version 1\n",
    "# CORRECT VERSION \n",
    "scaler = preprocessing.StandardScaler().fit(XTrain)\n",
    "XTrainN = scaler.transform(XTrain)\n",
    "XTestN = scaler.transform(XTest)\n",
    "kb = get_kbest(k_list, XTrainN)\n",
    "print('VERSION 1')\n",
    "print('kbest: {}'.format(kb))\n",
    "start = timer()\n",
    "accTest = accuracy_score(YTest, fit(XTrainN, YTrain, XTestN, kb))\n",
    "end = timer()\n",
    "accTrain = accuracy_score(YTrain, fit(XTrainN, YTrain, XTrainN, kb))\n",
    "print(f'Test accuracy: {accTest}\\nTrain accuracy: {accTrain}\\nComputation Time: {round(end-start, 2)} sec')"
   ]
  },
  {
   "cell_type": "code",
   "execution_count": 9,
   "id": "3adbb281",
   "metadata": {},
   "outputs": [
    {
     "name": "stdout",
     "output_type": "stream",
     "text": [
      "VERSION 2\n",
      "kbest: 3\n",
      "Test accuracy: 0.99\n",
      "Train accuracy: 0.9933333333333333\n",
      "Computation Time: 1.46 sec\n"
     ]
    }
   ],
   "source": [
    "# version 2\n",
    "scaler = preprocessing.StandardScaler().fit(XTrain)\n",
    "XTrainN = scaler.transform(XTrain)\n",
    "scaler = preprocessing.StandardScaler().fit(XTest)\n",
    "XTestN = scaler.transform(XTest)\n",
    "kb = get_kbest(k_list, XTrainN)\n",
    "print('VERSION 2')\n",
    "print('kbest: {}'.format(kb))\n",
    "start = timer()\n",
    "accTest = accuracy_score(YTest, fit(XTrainN, YTrain, XTestN, kb))\n",
    "end = timer()\n",
    "accTrain = accuracy_score(YTrain, fit(XTrainN, YTrain, XTrainN, kb))\n",
    "print(f'Test accuracy: {accTest}\\nTrain accuracy: {accTrain}\\nComputation Time: {round(end-start, 2)} sec')"
   ]
  },
  {
   "cell_type": "code",
   "execution_count": 10,
   "id": "52701d04",
   "metadata": {},
   "outputs": [
    {
     "name": "stdout",
     "output_type": "stream",
     "text": [
      "VERSION 3\n",
      "kbest: 3\n",
      "Test accuracy: 0.9875\n",
      "Train accuracy: 0.9933333333333333\n",
      "Computation Time: 1.82 sec\n"
     ]
    }
   ],
   "source": [
    "# version 3\n",
    "XTotal = np.concatenate((XTrain, XTest))\n",
    "scaler = preprocessing.StandardScaler().fit(XTotal)\n",
    "XTrainN = scaler.transform(XTrain)\n",
    "XTestN = scaler.transform(XTest)\n",
    "kb = get_kbest(k_list, XTrainN)\n",
    "print('VERSION 3')\n",
    "print('kbest: {}'.format(kb))\n",
    "start = timer()\n",
    "accTest = accuracy_score(YTest, fit(XTrainN, YTrain, XTestN, kb))\n",
    "end = timer()\n",
    "accTrain = accuracy_score(YTrain, fit(XTrainN, YTrain, XTrainN, kb))\n",
    "print(f'Test accuracy: {accTest}\\nTrain accuracy: {accTrain}\\nComputation Time: {round(end-start, 2)} sec')"
   ]
  }
 ],
 "metadata": {
  "kernelspec": {
   "display_name": "Python 3",
   "language": "python",
   "name": "python3"
  },
  "language_info": {
   "codemirror_mode": {
    "name": "ipython",
    "version": 3
   },
   "file_extension": ".py",
   "mimetype": "text/x-python",
   "name": "python",
   "nbconvert_exporter": "python",
   "pygments_lexer": "ipython3",
   "version": "3.8.8"
  }
 },
 "nbformat": 4,
 "nbformat_minor": 5
}
